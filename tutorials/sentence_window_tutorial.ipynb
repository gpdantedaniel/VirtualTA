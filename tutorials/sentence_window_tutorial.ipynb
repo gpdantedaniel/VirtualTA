{
 "cells": [
  {
   "cell_type": "code",
   "execution_count": 1,
   "metadata": {},
   "outputs": [],
   "source": [
    "from haystack.telemetry import tutorial_running\n",
    "\n",
    "tutorial_running(42)"
   ]
  },
  {
   "cell_type": "code",
   "execution_count": 3,
   "metadata": {},
   "outputs": [
    {
     "data": {
      "text/plain": [
       "{'documents': [Document(id=8db98f03cd338b83a8b28172ebf03c77fb481c17053e792193033003daeffc8a, content: 'Paul fell asleep to dream of an Arrakeen cavern, silent people all around  him moving in the dim lig...', meta: {'source_id': 'b56504f244b7b650096b14d678bc82f3d7fe240bb135361c6a23a14c4b809596', 'page_number': 1, 'split_id': 0, 'split_idx_start': 0}),\n",
       "  Document(id=db478194d25cedfb818f04c4bd22a5d4c058f6cddcced2461445d82f7feaf932, content: ' It was solemn there and like a cathedral as he listened to a faint sound—the drip-drip-drip of wate...', meta: {'source_id': 'b56504f244b7b650096b14d678bc82f3d7fe240bb135361c6a23a14c4b809596', 'page_number': 1, 'split_id': 1, 'split_idx_start': 117}),\n",
       "  Document(id=5d093b6ec1a4bdc7e75f033ae0b570e237053213a09b42a56ad815b4d118943d, content: ' Even while he remained in the dream, Paul knew he would remember it upon awakening.', meta: {'source_id': 'b56504f244b7b650096b14d678bc82f3d7fe240bb135361c6a23a14c4b809596', 'page_number': 1, 'split_id': 2, 'split_idx_start': 219}),\n",
       "  Document(id=4ed71ff61df531053cc7d5f80e8a0bd1e702f3a396f3f3983ceeffe89878a684, content: ' He always remembered the dreams that were predictions.', meta: {'source_id': 'b56504f244b7b650096b14d678bc82f3d7fe240bb135361c6a23a14c4b809596', 'page_number': 1, 'split_id': 3, 'split_idx_start': 303}),\n",
       "  Document(id=f485258001abdf2deab98249c7f0826b4f6b1bef7c37763d14318e7b595f434f, content: ' The dream faded.', meta: {'source_id': 'b56504f244b7b650096b14d678bc82f3d7fe240bb135361c6a23a14c4b809596', 'page_number': 1, 'split_id': 4, 'split_idx_start': 358}),\n",
       "  Document(id=f39c29c3a3122affc5909dc7b98f5880d9bd984731380420134c440da6fee363, content: ' Paul awoke to feel himself in the warmth of his bed—thinking thinking.', meta: {'source_id': 'b56504f244b7b650096b14d678bc82f3d7fe240bb135361c6a23a14c4b809596', 'page_number': 1, 'split_id': 5, 'split_idx_start': 375}),\n",
       "  Document(id=15401623a2a4fed533db7c1bbe8df157f79a9395cf8d3d6e92dc5ae553d0dded, content: ' This world of Castle Caladan, without play or companions his own age,  perhaps did not deserve sadn...', meta: {'source_id': 'b56504f244b7b650096b14d678bc82f3d7fe240bb135361c6a23a14c4b809596', 'page_number': 1, 'split_id': 6, 'split_idx_start': 446}),\n",
       "  Document(id=8196cb17da2c10611ea87a2a6e6e0b5e5d716c5545e49b7e5170b5fe22d0d5c7, content: ' Dr Yueh, his teacher, had hinted  that the faufreluches class system was not rigidly guarded on Arr...', meta: {'source_id': 'b56504f244b7b650096b14d678bc82f3d7fe240bb135361c6a23a14c4b809596', 'page_number': 1, 'split_id': 7, 'split_idx_start': 562}),\n",
       "  Document(id=4ab6bdf2100a584e9a0324a11b510b5ad87340ae6d04635594bca8d40d4b4e62, content: ' The planet sheltered people who lived at the desert edge without caid or bashar to command them: wi...', meta: {'source_id': 'b56504f244b7b650096b14d678bc82f3d7fe240bb135361c6a23a14c4b809596', 'page_number': 1, 'split_id': 8, 'split_idx_start': 667})]}"
      ]
     },
     "execution_count": 3,
     "metadata": {},
     "output_type": "execute_result"
    }
   ],
   "source": [
    "from haystack import Document\n",
    "from haystack.components.preprocessors import DocumentSplitter\n",
    "splitter = DocumentSplitter(split_length=1, split_overlap=0, split_by='sentence')\n",
    "\n",
    "text = (\"Paul fell asleep to dream of an Arrakeen cavern, silent people all around  him moving in the dim light \"\n",
    "        \"of glowglobes. It was solemn there and like a cathedral as he listened to a faint sound—the \"\n",
    "        \"drip-drip-drip of water. Even while he remained in the dream, Paul knew he would remember it upon \"\n",
    "        \"awakening. He always remembered the dreams that were predictions. The dream faded. Paul awoke to feel \"\n",
    "        \"himself in the warmth of his bed—thinking thinking. This world of Castle Caladan, without play or \"\n",
    "        \"companions his own age,  perhaps did not deserve sadness in farewell. Dr Yueh, his teacher, had \"\n",
    "        \"hinted  that the faufreluches class system was not rigidly guarded on Arrakis. The planet sheltered \"\n",
    "        \"people who lived at the desert edge without caid or bashar to command them: will-o’-the-sand people \"\n",
    "        \"called Fremen, marked down on no  census of the Imperial Regate.\")\n",
    "\n",
    "doc = Document(content=text)\n",
    "docs = splitter.run([doc])\n",
    "docs"
   ]
  },
  {
   "cell_type": "code",
   "execution_count": 4,
   "metadata": {},
   "outputs": [
    {
     "data": {
      "text/plain": [
       "9"
      ]
     },
     "execution_count": 4,
     "metadata": {},
     "output_type": "execute_result"
    }
   ],
   "source": [
    "from haystack.document_stores.in_memory import InMemoryDocumentStore\n",
    "from haystack.document_stores.types import DuplicatePolicy\n",
    "\n",
    "doc_store = InMemoryDocumentStore()\n",
    "doc_store.write_documents(docs['documents'], policy=DuplicatePolicy.OVERWRITE)"
   ]
  },
  {
   "cell_type": "code",
   "execution_count": 12,
   "metadata": {},
   "outputs": [
    {
     "data": {
      "text/plain": [
       "' The dream faded.'"
      ]
     },
     "execution_count": 12,
     "metadata": {},
     "output_type": "execute_result"
    }
   ],
   "source": [
    "docs['documents'][4].content"
   ]
  },
  {
   "cell_type": "code",
   "execution_count": 14,
   "metadata": {},
   "outputs": [
    {
     "data": {
      "text/plain": [
       "{'context_windows': [' Even while he remained in the dream, Paul knew he would remember it upon awakening. He always remembered the dreams that were predictions. The dream faded. Paul awoke to feel himself in the warmth of his bed—thinking thinking. This world of Castle Caladan, without play or companions his own age,  perhaps did not deserve sadness in farewell.'],\n",
       " 'context_documents': [[Document(id=5d093b6ec1a4bdc7e75f033ae0b570e237053213a09b42a56ad815b4d118943d, content: ' Even while he remained in the dream, Paul knew he would remember it upon awakening.', meta: {'source_id': 'b56504f244b7b650096b14d678bc82f3d7fe240bb135361c6a23a14c4b809596', 'page_number': 1, 'split_id': 2, 'split_idx_start': 219}),\n",
       "   Document(id=4ed71ff61df531053cc7d5f80e8a0bd1e702f3a396f3f3983ceeffe89878a684, content: ' He always remembered the dreams that were predictions.', meta: {'source_id': 'b56504f244b7b650096b14d678bc82f3d7fe240bb135361c6a23a14c4b809596', 'page_number': 1, 'split_id': 3, 'split_idx_start': 303}),\n",
       "   Document(id=f485258001abdf2deab98249c7f0826b4f6b1bef7c37763d14318e7b595f434f, content: ' The dream faded.', meta: {'source_id': 'b56504f244b7b650096b14d678bc82f3d7fe240bb135361c6a23a14c4b809596', 'page_number': 1, 'split_id': 4, 'split_idx_start': 358}),\n",
       "   Document(id=f39c29c3a3122affc5909dc7b98f5880d9bd984731380420134c440da6fee363, content: ' Paul awoke to feel himself in the warmth of his bed—thinking thinking.', meta: {'source_id': 'b56504f244b7b650096b14d678bc82f3d7fe240bb135361c6a23a14c4b809596', 'page_number': 1, 'split_id': 5, 'split_idx_start': 375}),\n",
       "   Document(id=15401623a2a4fed533db7c1bbe8df157f79a9395cf8d3d6e92dc5ae553d0dded, content: ' This world of Castle Caladan, without play or companions his own age,  perhaps did not deserve sadn...', meta: {'source_id': 'b56504f244b7b650096b14d678bc82f3d7fe240bb135361c6a23a14c4b809596', 'page_number': 1, 'split_id': 6, 'split_idx_start': 446})]]}"
      ]
     },
     "execution_count": 14,
     "metadata": {},
     "output_type": "execute_result"
    }
   ],
   "source": [
    "from haystack.components.retrievers import SentenceWindowRetriever\n",
    "\n",
    "retriever = SentenceWindowRetriever(document_store=doc_store, window_size=2)\n",
    "result = retriever.run(retrieved_documents=[docs['documents'][4]])\n",
    "result"
   ]
  },
  {
   "cell_type": "code",
   "execution_count": 15,
   "metadata": {},
   "outputs": [
    {
     "data": {
      "text/plain": [
       "2225"
      ]
     },
     "execution_count": 15,
     "metadata": {},
     "output_type": "execute_result"
    }
   ],
   "source": [
    "from typing import List\n",
    "import csv\n",
    "from haystack import Document\n",
    "from pathlib import Path\n",
    "import requests\n",
    "\n",
    "def read_documents(file: str) -> List[Document]:\n",
    "    with open(file, \"r\") as file:\n",
    "        reader = csv.reader(file, delimiter=\"\\t\")\n",
    "        next(reader, None)  # skip the headers\n",
    "        documents = []\n",
    "        for row in reader:\n",
    "            category = row[0].strip()\n",
    "            title = row[2].strip()\n",
    "            text = row[3].strip()\n",
    "            documents.append(Document(content=text, meta={\"category\": category, \"title\": title}))\n",
    "\n",
    "    return documents\n",
    "\n",
    "doc = requests.get('https://raw.githubusercontent.com/amankharwal/Website-data/master/bbc-news-data.csv')\n",
    "\n",
    "datafolder = Path('data')\n",
    "datafolder.mkdir(exist_ok=True)\n",
    "with open(datafolder/'bbc-news-data.csv', 'wb') as f:\n",
    "    for chunk in doc.iter_content(512):\n",
    "        f.write(chunk)\n",
    "\n",
    "docs = read_documents(\"data/bbc-news-data.csv\")\n",
    "len(docs)"
   ]
  },
  {
   "cell_type": "code",
   "execution_count": 17,
   "metadata": {},
   "outputs": [
    {
     "data": {
      "text/plain": [
       "{'writer': {'documents_written': 44186}}"
      ]
     },
     "execution_count": 17,
     "metadata": {},
     "output_type": "execute_result"
    }
   ],
   "source": [
    "from haystack import Document, Pipeline\n",
    "from haystack.components.preprocessors import DocumentSplitter\n",
    "from haystack.components.writers import DocumentWriter\n",
    "from haystack.document_stores.in_memory import InMemoryDocumentStore\n",
    "from haystack.document_stores.types import DuplicatePolicy\n",
    "\n",
    "document_store = InMemoryDocumentStore()\n",
    "\n",
    "indexing_pipeline = Pipeline()\n",
    "indexing_pipeline.add_component('splitter', DocumentSplitter(split_length=1, split_overlap=0, split_by='sentence'))\n",
    "indexing_pipeline.add_component('writer', DocumentWriter(document_store=document_store, policy=DuplicatePolicy.OVERWRITE))\n",
    "\n",
    "indexing_pipeline.connect('splitter', 'writer')\n",
    "indexing_pipeline.run({'documents': docs})"
   ]
  },
  {
   "cell_type": "code",
   "execution_count": 18,
   "metadata": {},
   "outputs": [
    {
     "data": {
      "text/plain": [
       "<haystack.core.pipeline.pipeline.Pipeline object at 0x000001FE3BB86AB0>\n",
       "🚅 Components\n",
       "  - bm25_retriever: InMemoryBM25Retriever\n",
       "  - sentence_window_retriever: SentenceWindowRetriever\n",
       "🛤️ Connections\n",
       "  - bm25_retriever.documents -> sentence_window_retriever.retrieved_documents (List[Document])"
      ]
     },
     "execution_count": 18,
     "metadata": {},
     "output_type": "execute_result"
    }
   ],
   "source": [
    "from haystack.components.retrievers.in_memory import InMemoryBM25Retriever\n",
    "from haystack.components.retrievers import SentenceWindowRetriever\n",
    "\n",
    "sentence_window_pipeline = Pipeline()\n",
    "sentence_window_pipeline.add_component('bm25_retriever', InMemoryBM25Retriever(document_store=document_store))\n",
    "sentence_window_pipeline.add_component('sentence_window_retriever', SentenceWindowRetriever(document_store, window_size=12))\n",
    "\n",
    "sentence_window_pipeline.connect('bm25_retriever.documents', 'sentence_window_retriever.retrieved_documents')"
   ]
  },
  {
   "cell_type": "code",
   "execution_count": 19,
   "metadata": {},
   "outputs": [],
   "source": [
    "result = sentence_window_pipeline.run(data={'bm25_retriever': {'query': \"phishing attacks\", \"top_k\": 1}}, include_outputs_from={'bm25_retriever'})\n"
   ]
  },
  {
   "cell_type": "code",
   "execution_count": 20,
   "metadata": {},
   "outputs": [
    {
     "data": {
      "text/plain": [
       "[Document(id=57766497f35c7ebef5c49e754b8df41a8df3d5df3e46bc595807d7420d7cef8e, content: ' The Anti-Phishing Working group reported that the number of phishing attacks against new targets wa...', meta: {'category': 'tech', 'title': 'Cyber crime booms in 2004', 'source_id': '5c81f8cbd6c9c07819bf60e484489fe0af9e6626591ec77066701cb856fb3b33', 'page_number': 1, 'split_id': 12, 'split_idx_start': 1520}, score: 17.74585935028894)]"
      ]
     },
     "execution_count": 20,
     "metadata": {},
     "output_type": "execute_result"
    }
   ],
   "source": [
    "result['bm25_retriever']['documents']"
   ]
  },
  {
   "cell_type": "code",
   "execution_count": 22,
   "metadata": {},
   "outputs": [
    {
     "data": {
      "text/plain": [
       "['The last 12 months have seen a dramatic growth in almost every security threat that plague Windows PCs.  The count of known viruses broke the 100,000 barrier and the number of new viruses grew by more than 50%. Similarly phishing attempts, in which conmen try to trick people into handing over confidential data, are recording growth rates of more than 30% and attacks are becoming increasingly sophisticated. Also on the increase are the number of networks of remotely controlled computers, called bot nets, used by malicious hackers and conmen to carry out many different cyber crimes.  One of the biggest changes of 2004 was the waning influence of the boy hackers keen to make a name by writing a fast-spreading virus, said Kevin Hogan, senior manager in Symantec\\'s security response group. Although teenage virus writers will still play around with malicious code, said Mr Hogan, 2004 saw a significant rise in criminal use of malicious programs. The financial incentives were driving criminal use of technology, he said. His comment was echoed by Graham Cluley, senior technology consultant from anti-virus firm Sophos. Mr Cluley said: \"When the commercial world gets involved, things really get nasty. Virus writers and hackers will be looking to make a tidy sum.\"  In particular, phishing attacks, which typically use fake versions of bank websites to grab login details of customers, boomed during 2004. Web portal Lycos Europe reported a 500% increase in the number of phishing e-mail messages it was catching. The Anti-Phishing Working group reported that the number of phishing attacks against new targets was growing at a rate of 30% or more per month. Those who fall victim to these attacks can find that their bank account has been cleaned out or that their good name has been ruined by someone stealing their identity. This change in the ranks of virus writers could mean the end of the mass-mailing virus which attempts to spread by tricking people into opening infected attachments on e-mail messages. \"They are not an efficient way of spreading viruses,\" said Mr Hogan. \"They are very noisy and they are not technically challenging.\" The opening months of 2004 did see the appearance of the Netsky, Bagle and MyDoom mass mailers, but since then more surreptitious viruses, or worms, have dominated.  Mr Hogan said worm writers were more interested in recruiting PCs to take part in \"bot nets\" that can be used to send out spam or to mount attacks on websites.  In September Symantec released statistics which showed that the numbers of active \"bot computers\" rose from 2,000 to 30,000 per day. Thanks to these \"bot nets\", spam continued to be a problem in 2004. Anti-spam firms report that, in many cases, legitimate e-mail has shrunk to less than 30% of messages. Part of the reason that these \"bot nets\" have become so prevalent, he said, was due to a big change in the way that many viruses were created. In the past many viruses, such as Netsky, have been the work of an individual or group. By contrast, said Mr Hogan, the code for viruses such as Gaobot, Spybot and Randex were commonly held and many groups work on them to produce new variants at the same time.']"
      ]
     },
     "execution_count": 22,
     "metadata": {},
     "output_type": "execute_result"
    }
   ],
   "source": [
    "result['sentence_window_retriever']['context_windows']"
   ]
  },
  {
   "cell_type": "code",
   "execution_count": 24,
   "metadata": {},
   "outputs": [
    {
     "data": {
      "text/plain": [
       "[[Document(id=c13d6940687df1ea885d686d5b7e5fe703a98d46a3d6fabd50eef074866e4b40, content: 'The last 12 months have seen a dramatic growth in almost every security threat that plague Windows P...', meta: {'category': 'tech', 'title': 'Cyber crime booms in 2004', 'source_id': '5c81f8cbd6c9c07819bf60e484489fe0af9e6626591ec77066701cb856fb3b33', 'page_number': 1, 'split_id': 0, 'split_idx_start': 0}),\n",
       "  Document(id=8c0f586edfdf4967e15f731f736cda18d6f0bd4e332737754deb7bc118e624a3, content: '  The count of known viruses broke the 100,000 barrier and the number of new viruses grew by more th...', meta: {'category': 'tech', 'title': 'Cyber crime booms in 2004', 'source_id': '5c81f8cbd6c9c07819bf60e484489fe0af9e6626591ec77066701cb856fb3b33', 'page_number': 1, 'split_id': 1, 'split_idx_start': 103}),\n",
       "  Document(id=a985729ae1cec63d984026a47e05c4fa8dd8ca81ea27bff77b387436c6d93634, content: ' Similarly phishing attempts, in which conmen try to trick people into handing over confidential dat...', meta: {'category': 'tech', 'title': 'Cyber crime booms in 2004', 'source_id': '5c81f8cbd6c9c07819bf60e484489fe0af9e6626591ec77066701cb856fb3b33', 'page_number': 1, 'split_id': 2, 'split_idx_start': 210}),\n",
       "  Document(id=a6feae3dde58a96b8921ff5d3aee796fb1ca8bbd5fb3bd804671c65106ec32df, content: ' Also on the increase are the number of networks of remotely controlled computers, called bot nets, ...', meta: {'category': 'tech', 'title': 'Cyber crime booms in 2004', 'source_id': '5c81f8cbd6c9c07819bf60e484489fe0af9e6626591ec77066701cb856fb3b33', 'page_number': 1, 'split_id': 3, 'split_idx_start': 409}),\n",
       "  Document(id=8c0dd830d3ff8ae7c580bfb4b4e0609fbe756d2b12d4fb387c31d73f6df2c91e, content: '  One of the biggest changes of 2004 was the waning influence of the boy hackers keen to make a name...', meta: {'category': 'tech', 'title': 'Cyber crime booms in 2004', 'source_id': '5c81f8cbd6c9c07819bf60e484489fe0af9e6626591ec77066701cb856fb3b33', 'page_number': 1, 'split_id': 4, 'split_idx_start': 587}),\n",
       "  Document(id=2af519ac7827c3db1643abf2690e3aabf0fa7f12e62dd3b4db041afc73a5fa3b, content: ' Although teenage virus writers will still play around with malicious code, said Mr Hogan, 2004 saw ...', meta: {'category': 'tech', 'title': 'Cyber crime booms in 2004', 'source_id': '5c81f8cbd6c9c07819bf60e484489fe0af9e6626591ec77066701cb856fb3b33', 'page_number': 1, 'split_id': 5, 'split_idx_start': 794}),\n",
       "  Document(id=420938560ba6448ab7ad745ebb2adf89cb833450090b99daf1e20d0199b84470, content: ' The financial incentives were driving criminal use of technology, he said.', meta: {'category': 'tech', 'title': 'Cyber crime booms in 2004', 'source_id': '5c81f8cbd6c9c07819bf60e484489fe0af9e6626591ec77066701cb856fb3b33', 'page_number': 1, 'split_id': 6, 'split_idx_start': 951}),\n",
       "  Document(id=87fa63802da4151ad1d72831331a3f3272fad30981768a3774326f8106a53cc4, content: ' His comment was echoed by Graham Cluley, senior technology consultant from anti-virus firm Sophos.', meta: {'category': 'tech', 'title': 'Cyber crime booms in 2004', 'source_id': '5c81f8cbd6c9c07819bf60e484489fe0af9e6626591ec77066701cb856fb3b33', 'page_number': 1, 'split_id': 7, 'split_idx_start': 1026}),\n",
       "  Document(id=dfa868d15e35dfc5bbec336f406ec2ea47d5ce087cc0d79a82012747a9ddfacc, content: ' Mr Cluley said: \"When the commercial world gets involved, things really get nasty.', meta: {'category': 'tech', 'title': 'Cyber crime booms in 2004', 'source_id': '5c81f8cbd6c9c07819bf60e484489fe0af9e6626591ec77066701cb856fb3b33', 'page_number': 1, 'split_id': 8, 'split_idx_start': 1125}),\n",
       "  Document(id=1d16481403caf3418f3d026be663f83b484e3ef743bc133a62f4153799d3f2df, content: ' Virus writers and hackers will be looking to make a tidy sum.', meta: {'category': 'tech', 'title': 'Cyber crime booms in 2004', 'source_id': '5c81f8cbd6c9c07819bf60e484489fe0af9e6626591ec77066701cb856fb3b33', 'page_number': 1, 'split_id': 9, 'split_idx_start': 1208}),\n",
       "  Document(id=905582f4a147cae72b90223e433db5986c4ff46d8c8a325fe56ea3cfbecff742, content: '\"  In particular, phishing attacks, which typically use fake versions of bank websites to grab login...', meta: {'category': 'tech', 'title': 'Cyber crime booms in 2004', 'source_id': '5c81f8cbd6c9c07819bf60e484489fe0af9e6626591ec77066701cb856fb3b33', 'page_number': 1, 'split_id': 10, 'split_idx_start': 1270}),\n",
       "  Document(id=91f6969683e714cddf3ef4816616176d7e467bb7756eb4051f0aa5f15e7bcabd, content: ' Web portal Lycos Europe reported a 500% increase in the number of phishing e-mail messages it was c...', meta: {'category': 'tech', 'title': 'Cyber crime booms in 2004', 'source_id': '5c81f8cbd6c9c07819bf60e484489fe0af9e6626591ec77066701cb856fb3b33', 'page_number': 1, 'split_id': 11, 'split_idx_start': 1412}),\n",
       "  Document(id=57766497f35c7ebef5c49e754b8df41a8df3d5df3e46bc595807d7420d7cef8e, content: ' The Anti-Phishing Working group reported that the number of phishing attacks against new targets wa...', meta: {'category': 'tech', 'title': 'Cyber crime booms in 2004', 'source_id': '5c81f8cbd6c9c07819bf60e484489fe0af9e6626591ec77066701cb856fb3b33', 'page_number': 1, 'split_id': 12, 'split_idx_start': 1520}),\n",
       "  Document(id=5ed9c84a161ee527527a3bb0c7b90dddee368a840860c672623408d90d399de0, content: ' Those who fall victim to these attacks can find that their bank account has been cleaned out or tha...', meta: {'category': 'tech', 'title': 'Cyber crime booms in 2004', 'source_id': '5c81f8cbd6c9c07819bf60e484489fe0af9e6626591ec77066701cb856fb3b33', 'page_number': 1, 'split_id': 13, 'split_idx_start': 1665}),\n",
       "  Document(id=08d1d6c1e05b68d626a37bf0f863affca8eda54aad886b27583b4c783d1bd308, content: ' This change in the ranks of virus writers could mean the end of the mass-mailing virus which attemp...', meta: {'category': 'tech', 'title': 'Cyber crime booms in 2004', 'source_id': '5c81f8cbd6c9c07819bf60e484489fe0af9e6626591ec77066701cb856fb3b33', 'page_number': 1, 'split_id': 14, 'split_idx_start': 1834}),\n",
       "  Document(id=744d26fc13713834dc7d397f7987e2428644effb53884cc860a9a61b098b75cf, content: ' \"They are not an efficient way of spreading viruses,\" said Mr Hogan.', meta: {'category': 'tech', 'title': 'Cyber crime booms in 2004', 'source_id': '5c81f8cbd6c9c07819bf60e484489fe0af9e6626591ec77066701cb856fb3b33', 'page_number': 1, 'split_id': 15, 'split_idx_start': 2019}),\n",
       "  Document(id=41925fb1dba4fab780bbb93c9dea3694f7f66acd93850d1520b277e5df41cdf9, content: ' \"They are very noisy and they are not technically challenging.', meta: {'category': 'tech', 'title': 'Cyber crime booms in 2004', 'source_id': '5c81f8cbd6c9c07819bf60e484489fe0af9e6626591ec77066701cb856fb3b33', 'page_number': 1, 'split_id': 16, 'split_idx_start': 2088}),\n",
       "  Document(id=3e59dd3101f4b675f40c298cc220a2d983465bf25dd14719beb8b5ec42b9565c, content: '\" The opening months of 2004 did see the appearance of the Netsky, Bagle and MyDoom mass mailers, bu...', meta: {'category': 'tech', 'title': 'Cyber crime booms in 2004', 'source_id': '5c81f8cbd6c9c07819bf60e484489fe0af9e6626591ec77066701cb856fb3b33', 'page_number': 1, 'split_id': 17, 'split_idx_start': 2151}),\n",
       "  Document(id=49ab0637dcabb127b73249372056703294e804c3e589b0a8ace9b31a3716838f, content: '  Mr Hogan said worm writers were more interested in recruiting PCs to take part in \"bot nets\" that ...', meta: {'category': 'tech', 'title': 'Cyber crime booms in 2004', 'source_id': '5c81f8cbd6c9c07819bf60e484489fe0af9e6626591ec77066701cb856fb3b33', 'page_number': 1, 'split_id': 18, 'split_idx_start': 2317}),\n",
       "  Document(id=3e3f266c9033f37f7d37224ab2289ecba29c9cf01c6573c3553233264345a2f0, content: '  In September Symantec released statistics which showed that the numbers of active \"bot computers\" ...', meta: {'category': 'tech', 'title': 'Cyber crime booms in 2004', 'source_id': '5c81f8cbd6c9c07819bf60e484489fe0af9e6626591ec77066701cb856fb3b33', 'page_number': 1, 'split_id': 19, 'split_idx_start': 2478}),\n",
       "  Document(id=c1b777a1572ef2fd74b6b10f702387b9c2e003b84262d947a9a7f88278582a43, content: ' Thanks to these \"bot nets\", spam continued to be a problem in 2004.', meta: {'category': 'tech', 'title': 'Cyber crime booms in 2004', 'source_id': '5c81f8cbd6c9c07819bf60e484489fe0af9e6626591ec77066701cb856fb3b33', 'page_number': 1, 'split_id': 20, 'split_idx_start': 2612}),\n",
       "  Document(id=e33bd16a55e000de101b418a62fb874b26216f45e264258a0ef1458eeb531d13, content: ' Anti-spam firms report that, in many cases, legitimate e-mail has shrunk to less than 30% of messag...', meta: {'category': 'tech', 'title': 'Cyber crime booms in 2004', 'source_id': '5c81f8cbd6c9c07819bf60e484489fe0af9e6626591ec77066701cb856fb3b33', 'page_number': 1, 'split_id': 21, 'split_idx_start': 2680}),\n",
       "  Document(id=d42dd241d26ff4decdb68fc930dd1acf6aef5abe02c8f21f844d5e6f8c66c0d1, content: ' Part of the reason that these \"bot nets\" have become so prevalent, he said, was due to a big change...', meta: {'category': 'tech', 'title': 'Cyber crime booms in 2004', 'source_id': '5c81f8cbd6c9c07819bf60e484489fe0af9e6626591ec77066701cb856fb3b33', 'page_number': 1, 'split_id': 22, 'split_idx_start': 2783}),\n",
       "  Document(id=292234bccad4ddd69491820ea4d8f3c4a381db0645f3bba54236069bb8038874, content: ' In the past many viruses, such as Netsky, have been the work of an individual or group.', meta: {'category': 'tech', 'title': 'Cyber crime booms in 2004', 'source_id': '5c81f8cbd6c9c07819bf60e484489fe0af9e6626591ec77066701cb856fb3b33', 'page_number': 1, 'split_id': 23, 'split_idx_start': 2926}),\n",
       "  Document(id=fc191e5dac03694142e598a3f4bb8f1bf6960b913f3bf5e365d6914b9e1eebc1, content: ' By contrast, said Mr Hogan, the code for viruses such as Gaobot, Spybot and Randex were commonly he...', meta: {'category': 'tech', 'title': 'Cyber crime booms in 2004', 'source_id': '5c81f8cbd6c9c07819bf60e484489fe0af9e6626591ec77066701cb856fb3b33', 'page_number': 1, 'split_id': 24, 'split_idx_start': 3014})]]"
      ]
     },
     "execution_count": 24,
     "metadata": {},
     "output_type": "execute_result"
    }
   ],
   "source": [
    "result['sentence_window_retriever']['context_documents']"
   ]
  }
 ],
 "metadata": {
  "kernelspec": {
   "display_name": "venv",
   "language": "python",
   "name": "python3"
  },
  "language_info": {
   "codemirror_mode": {
    "name": "ipython",
    "version": 3
   },
   "file_extension": ".py",
   "mimetype": "text/x-python",
   "name": "python",
   "nbconvert_exporter": "python",
   "pygments_lexer": "ipython3",
   "version": "3.12.2"
  }
 },
 "nbformat": 4,
 "nbformat_minor": 2
}
