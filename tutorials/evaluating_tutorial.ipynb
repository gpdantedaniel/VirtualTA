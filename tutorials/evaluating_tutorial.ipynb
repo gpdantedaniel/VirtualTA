{
 "cells": [
  {
   "cell_type": "code",
   "execution_count": 1,
   "metadata": {},
   "outputs": [],
   "source": [
    "from haystack.telemetry import tutorial_running\n",
    "tutorial_running(35)"
   ]
  },
  {
   "cell_type": "code",
   "execution_count": 2,
   "metadata": {},
   "outputs": [],
   "source": [
    "from datasets import load_dataset\n",
    "from haystack import Document\n",
    "\n",
    "dataset = load_dataset('vblagoje/PubMedQA_instruction', split='train')\n",
    "dataset = dataset.select(range(1000))\n",
    "\n",
    "all_documents = [Document(content=doc['context']) for doc in dataset]\n",
    "all_questions = [doc['instruction'] for doc in dataset]\n",
    "all_ground_truth_answers = [doc['response'] for doc in dataset]"
   ]
  },
  {
   "cell_type": "code",
   "execution_count": 3,
   "metadata": {},
   "outputs": [
    {
     "data": {
      "application/vnd.jupyter.widget-view+json": {
       "model_id": "9cf243e10ddf42ada0f0fda35bf4e169",
       "version_major": 2,
       "version_minor": 0
      },
      "text/plain": [
       "Batches:   0%|          | 0/32 [00:00<?, ?it/s]"
      ]
     },
     "metadata": {},
     "output_type": "display_data"
    },
    {
     "data": {
      "text/plain": [
       "{'document_writer': {'documents_written': 1000}}"
      ]
     },
     "execution_count": 3,
     "metadata": {},
     "output_type": "execute_result"
    }
   ],
   "source": [
    "from typing import List\n",
    "from haystack import Pipeline\n",
    "from haystack.components.embedders import SentenceTransformersDocumentEmbedder\n",
    "from haystack.components.writers import DocumentWriter\n",
    "from haystack.document_stores.in_memory import InMemoryDocumentStore\n",
    "from haystack.document_stores.types import DuplicatePolicy\n",
    "\n",
    "document_store = InMemoryDocumentStore()\n",
    "\n",
    "document_embedder = SentenceTransformersDocumentEmbedder(model='sentence-transformers/all-MiniLM-L6-v2')\n",
    "document_writer = DocumentWriter(document_store=document_store, policy=DuplicatePolicy.OVERWRITE)\n",
    "\n",
    "indexing = Pipeline()\n",
    "indexing.add_component(instance=document_embedder, name='document_embedder')\n",
    "indexing.add_component(instance=document_writer, name='document_writer')\n",
    "\n",
    "indexing.connect('document_embedder.documents', 'document_writer.documents')\n",
    "\n",
    "indexing.run({'document_embedder': {'documents': all_documents}})\n"
   ]
  },
  {
   "cell_type": "code",
   "execution_count": 4,
   "metadata": {},
   "outputs": [
    {
     "data": {
      "text/plain": [
       "<haystack.core.pipeline.pipeline.Pipeline object at 0x000002A6A2B28DD0>\n",
       "🚅 Components\n",
       "  - query_embedder: SentenceTransformersTextEmbedder\n",
       "  - retriever: InMemoryEmbeddingRetriever\n",
       "  - prompt_builder: PromptBuilder\n",
       "  - generator: OpenAIGenerator\n",
       "  - answer_builder: AnswerBuilder\n",
       "🛤️ Connections\n",
       "  - query_embedder.embedding -> retriever.query_embedding (List[float])\n",
       "  - retriever.documents -> prompt_builder.documents (List[Document])\n",
       "  - retriever.documents -> answer_builder.documents (List[Document])\n",
       "  - prompt_builder.prompt -> generator.prompt (str)\n",
       "  - generator.replies -> answer_builder.replies (List[str])\n",
       "  - generator.meta -> answer_builder.meta (List[Dict[str, Any]])"
      ]
     },
     "execution_count": 4,
     "metadata": {},
     "output_type": "execute_result"
    }
   ],
   "source": [
    "import os\n",
    "from getpass import getpass\n",
    "from haystack.components.builders import AnswerBuilder, PromptBuilder\n",
    "from haystack.components.embedders import SentenceTransformersTextEmbedder\n",
    "from haystack.components.generators import OpenAIGenerator\n",
    "from haystack.components.retrievers.in_memory import InMemoryEmbeddingRetriever\n",
    "\n",
    "if \"OPENAI_API_KEY\" not in os.environ:\n",
    "    os.environ[\"OPENAI_API_KEY\"] = getpass(\"Enter OpenAI API key:\")\n",
    "\n",
    "template = \"\"\"\n",
    "You have to answer the following question based on the given context information only.\n",
    "\n",
    "Context:\n",
    "{% for document in documents %}\n",
    "    {{ document.content }}\n",
    "{% endfor %}\n",
    "\n",
    "Question: {{question}}\n",
    "Answer:\n",
    "\"\"\"\n",
    "\n",
    "rag_pipeline = Pipeline()\n",
    "rag_pipeline.add_component(\"query_embedder\", SentenceTransformersTextEmbedder(model=\"sentence-transformers/all-MiniLM-L6-v2\"))\n",
    "rag_pipeline.add_component(\"retriever\", InMemoryEmbeddingRetriever(document_store, top_k=3))\n",
    "rag_pipeline.add_component(\"prompt_builder\", PromptBuilder(template=template))\n",
    "rag_pipeline.add_component(\"generator\", OpenAIGenerator(model=\"gpt-4o-mini\"))\n",
    "rag_pipeline.add_component(\"answer_builder\", AnswerBuilder())\n",
    "\n",
    "rag_pipeline.connect(\"query_embedder\", \"retriever.query_embedding\")\n",
    "rag_pipeline.connect(\"retriever\", \"prompt_builder.documents\")\n",
    "rag_pipeline.connect(\"prompt_builder\", \"generator\")\n",
    "rag_pipeline.connect(\"generator.replies\", \"answer_builder.replies\")\n",
    "rag_pipeline.connect(\"generator.meta\", \"answer_builder.meta\")\n",
    "rag_pipeline.connect(\"retriever\", \"answer_builder.documents\")"
   ]
  },
  {
   "cell_type": "code",
   "execution_count": 5,
   "metadata": {},
   "outputs": [
    {
     "data": {
      "application/vnd.jupyter.widget-view+json": {
       "model_id": "86548a2b9fbe4655bd41a91e624c6c05",
       "version_major": 2,
       "version_minor": 0
      },
      "text/plain": [
       "Batches:   0%|          | 0/1 [00:00<?, ?it/s]"
      ]
     },
     "metadata": {},
     "output_type": "display_data"
    },
    {
     "data": {
      "text/plain": [
       "'Yes, high levels of procalcitonin (PCT) in the early phase after pediatric liver transplantation indicate a poor postoperative outcome. Patients with high PCT levels on postoperative day 2 experienced higher International Normalized Ratio values on postoperative day 5, suffered more frequently from primary graft non-function, had longer stays in the pediatric intensive care unit, and required more time on mechanical ventilation.'"
      ]
     },
     "execution_count": 5,
     "metadata": {},
     "output_type": "execute_result"
    }
   ],
   "source": [
    "question = \"Do high levels of procalcitonin in the early phase after pediatric liver transplantation indicate poor postoperative outcome?\"\n",
    "\n",
    "response = rag_pipeline.run(\n",
    "    {\n",
    "        \"query_embedder\": {\"text\": question},\n",
    "        \"prompt_builder\": {\"question\": question},\n",
    "        \"answer_builder\": {\"query\": question},\n",
    "    }\n",
    ")\n",
    "response[\"answer_builder\"][\"answers\"][0].data"
   ]
  },
  {
   "cell_type": "code",
   "execution_count": 6,
   "metadata": {},
   "outputs": [],
   "source": [
    "import random\n",
    "\n",
    "questions, ground_truth_answers, ground_truth_docs = zip(\n",
    "  *random.sample(list(zip(all_questions, all_ground_truth_answers, all_documents)), 25)\n",
    ")"
   ]
  },
  {
   "cell_type": "code",
   "execution_count": 8,
   "metadata": {},
   "outputs": [
    {
     "data": {
      "application/vnd.jupyter.widget-view+json": {
       "model_id": "bb3645f88dd240348947cc19972b5174",
       "version_major": 2,
       "version_minor": 0
      },
      "text/plain": [
       "Batches:   0%|          | 0/1 [00:00<?, ?it/s]"
      ]
     },
     "metadata": {},
     "output_type": "display_data"
    },
    {
     "name": "stdout",
     "output_type": "stream",
     "text": [
      "Question: Are pre-transplant impedance measures of reflux associated with early allograft injury after lung transplantation?\n",
      "Answer from pipeline:\n",
      "Yes, pre-transplant impedance measures of reflux are associated with early allograft injury after lung transplantation. Specifically, prolonged bolus clearance, increased total distal reflux episodes, and increased total proximal reflux episodes were significantly linked to decreased time to early allograft injury.\n",
      "\n",
      "-----------------------------------\n",
      "\n"
     ]
    },
    {
     "data": {
      "application/vnd.jupyter.widget-view+json": {
       "model_id": "c4b7e7765fd44435a62c3a3e1cd940ef",
       "version_major": 2,
       "version_minor": 0
      },
      "text/plain": [
       "Batches:   0%|          | 0/1 [00:00<?, ?it/s]"
      ]
     },
     "metadata": {},
     "output_type": "display_data"
    },
    {
     "name": "stdout",
     "output_type": "stream",
     "text": [
      "Question: Does protein phosphatase 5 mediate corticosteroid insensitivity in airway smooth muscle in patients with severe asthma?\n",
      "Answer from pipeline:\n",
      "Yes, protein phosphatase 5 (PP5) mediates corticosteroid insensitivity in airway smooth muscle (ASM) in patients with severe asthma. Increased levels of PP5 in ASM cells from severe asthmatics were associated with reduced sensitivity to corticosteroids, and knockdown of PP5 restored the repressive action of fluticasone on chemokine production as well as its ability to induce GRα nuclear translocation and GRE-dependent GILZ expression.\n",
      "\n",
      "-----------------------------------\n",
      "\n"
     ]
    },
    {
     "data": {
      "application/vnd.jupyter.widget-view+json": {
       "model_id": "db131a3f75f44dc2ac124bcf8224be69",
       "version_major": 2,
       "version_minor": 0
      },
      "text/plain": [
       "Batches:   0%|          | 0/1 [00:00<?, ?it/s]"
      ]
     },
     "metadata": {},
     "output_type": "display_data"
    },
    {
     "name": "stdout",
     "output_type": "stream",
     "text": [
      "Question: Does anemia on admission predict short- and long-term outcomes in patients with acute ischemic stroke?\n",
      "Answer from pipeline:\n",
      "Yes, anemia on admission predicts both short- and long-term outcomes in patients with acute ischemic stroke. Anemic patients showed higher mortality rates at 7 days, 3 months, and 12 months, which were associated with hemoglobin status among other factors. Additionally, lower hemoglobin levels were inversely associated with recurrent stroke and mortality throughout the 12-month follow-up.\n",
      "\n",
      "-----------------------------------\n",
      "\n"
     ]
    },
    {
     "data": {
      "application/vnd.jupyter.widget-view+json": {
       "model_id": "a60392130cbc4928969934ec4cfed265",
       "version_major": 2,
       "version_minor": 0
      },
      "text/plain": [
       "Batches:   0%|          | 0/1 [00:00<?, ?it/s]"
      ]
     },
     "metadata": {},
     "output_type": "display_data"
    },
    {
     "name": "stdout",
     "output_type": "stream",
     "text": [
      "Question: Is high salt intake associated with a higher risk of cardiovascular events : a 7.2-year evaluation of a cohort of hypertensive patients?\n",
      "Answer from pipeline:\n",
      "Yes, high salt intake is associated with a higher risk of cardiovascular events in the evaluated cohort of hypertensive patients. The study found that higher urinary sodium excretion (UNa), which corresponds to higher dietary salt intake, was significantly associated with an increased risk of cardiovascular events, as indicated by the logistic regression analysis that identified 24 h UNa as an independent predictor of CV events. Additionally, patients with UNa above the median had a significantly worse CV event-free survival rate.\n",
      "\n",
      "-----------------------------------\n",
      "\n"
     ]
    },
    {
     "data": {
      "application/vnd.jupyter.widget-view+json": {
       "model_id": "0f6cf57ba7834f54988790a4fbda35e9",
       "version_major": 2,
       "version_minor": 0
      },
      "text/plain": [
       "Batches:   0%|          | 0/1 [00:00<?, ?it/s]"
      ]
     },
     "metadata": {},
     "output_type": "display_data"
    },
    {
     "name": "stdout",
     "output_type": "stream",
     "text": [
      "Question: Does chronic psychological stress in high-anxiety rats induce sustained bladder hyperalgesia?\n",
      "Answer from pipeline:\n",
      "Yes, chronic psychological stress in anxiety-prone rats induces sustained bladder hyperalgesia, as evidenced by the increased pain response to suprapubic stimulation and decreased response threshold to mechanical hindpaw stimulation observed in rats exposed to chronic water avoidance stress (WAS). This hyperalgesia developed by day 8 of the stress protocol and persisted for more than one month.\n",
      "\n",
      "-----------------------------------\n",
      "\n"
     ]
    },
    {
     "data": {
      "application/vnd.jupyter.widget-view+json": {
       "model_id": "58f5f805c8bc410191ad05d768c470fc",
       "version_major": 2,
       "version_minor": 0
      },
      "text/plain": [
       "Batches:   0%|          | 0/1 [00:00<?, ?it/s]"
      ]
     },
     "metadata": {},
     "output_type": "display_data"
    },
    {
     "name": "stdout",
     "output_type": "stream",
     "text": [
      "Question: Does over-expression of small ubiquitin-like modifier proteases 1 predict chemo-sensitivity and poor survival in non-small cell lung cancer?\n",
      "Answer from pipeline:\n",
      "Yes, over-expression of small ubiquitin-like modifier proteases 1 (SENP1) is associated with poorer survival in non-small cell lung cancer (NSCLC) patients. The study findings indicate that SENP1 over-expression is linked to higher rates of lymph node metastasis, advanced TNM stage, and increased recurrence or metastasis after chemotherapy. Thus, it can be inferred that SENP1 over-expression may predict poor survival outcomes in NSCLC. However, the context does not provide direct evidence that SENP1 over-expression predicts chemo-sensitivity specifically.\n",
      "\n",
      "-----------------------------------\n",
      "\n"
     ]
    },
    {
     "data": {
      "application/vnd.jupyter.widget-view+json": {
       "model_id": "d986b5fe30d94740b6dd25b015187d53",
       "version_major": 2,
       "version_minor": 0
      },
      "text/plain": [
       "Batches:   0%|          | 0/1 [00:00<?, ?it/s]"
      ]
     },
     "metadata": {},
     "output_type": "display_data"
    },
    {
     "name": "stdout",
     "output_type": "stream",
     "text": [
      "Question: Are multiple pathways responsible for anti-inflammatory and cardiovascular activities of Hordeum vulgare L?\n",
      "Answer from pipeline:\n",
      "Yes, multiple pathways are responsible for the anti-inflammatory and cardiovascular activities of Hordeum vulgare L. The study indicates that Hordeum vulgare inhibits both the cyclooxygenase (COX) and lipoxygenase (LOX) pathways of arachidonic acid metabolism, which are key pathways involved in inflammation. Additionally, it elevates the activities of antioxidant enzymes such as superoxide dismutase (SOD) and glutathione peroxidase (GPx), further contributing to its anti-inflammatory and cardioprotective effects. These activities are distributed across various fractions of Hordeum vulgare, showcasing the complexity of its mechanisms.\n",
      "\n",
      "-----------------------------------\n",
      "\n"
     ]
    },
    {
     "data": {
      "application/vnd.jupyter.widget-view+json": {
       "model_id": "f16aec4445104accab44ff8a1b4999c5",
       "version_major": 2,
       "version_minor": 0
      },
      "text/plain": [
       "Batches:   0%|          | 0/1 [00:00<?, ?it/s]"
      ]
     },
     "metadata": {},
     "output_type": "display_data"
    },
    {
     "name": "stdout",
     "output_type": "stream",
     "text": [
      "Question: Does population structure from NOS genes correlate with geographical differences in coronary incidence across Europe?\n",
      "Answer from pipeline:\n",
      "Yes, the population structure estimates from NOS regions are closely correlated with coronary event rates and classical risk parameters among European populations, indicating a relationship between population structure and geographical differences in coronary incidence across Europe.\n",
      "\n",
      "-----------------------------------\n",
      "\n"
     ]
    },
    {
     "data": {
      "application/vnd.jupyter.widget-view+json": {
       "model_id": "16fa3a99088041e6b9a8d3d2c7ee4c41",
       "version_major": 2,
       "version_minor": 0
      },
      "text/plain": [
       "Batches:   0%|          | 0/1 [00:00<?, ?it/s]"
      ]
     },
     "metadata": {},
     "output_type": "display_data"
    },
    {
     "name": "stdout",
     "output_type": "stream",
     "text": [
      "Question: Does unilateral Hypothalamus Inactivation prevent PTZ Kindling Development through Hippocampal Orexin Receptor 1 Modulation?\n",
      "Answer from pipeline:\n",
      "Yes, unilateral hypothalamus inactivation prevents PTZ kindling development through the modulation of hippocampal orexin receptor 1 (OX1R). The inactivation of the lateral hypothalamic area (LHA) resulted in decreased hippocampal glutamate content and reduced convulsive behavior induced by PTZ, indicating a role for orexin signaling in the process.\n",
      "\n",
      "-----------------------------------\n",
      "\n"
     ]
    },
    {
     "data": {
      "application/vnd.jupyter.widget-view+json": {
       "model_id": "b284e70902534580ae42e53ee82c2a47",
       "version_major": 2,
       "version_minor": 0
      },
      "text/plain": [
       "Batches:   0%|          | 0/1 [00:00<?, ?it/s]"
      ]
     },
     "metadata": {},
     "output_type": "display_data"
    },
    {
     "name": "stdout",
     "output_type": "stream",
     "text": [
      "Question: Does diet-induced obesity prevent the development of acute traumatic coagulopathy?\n",
      "Answer from pipeline:\n",
      "Yes, diet-induced obesity appears to prevent the development of acute traumatic coagulopathy (ATC) following injury-induced hemorrhagic shock. In the study, obesity-prone (OP) rats did not show the same impairment in thrombelastography (TEG) parameters following shock as observed in control and obesity-resistant (OR) rats, suggesting that obesity may counteract the hypocoagulable state typically induced by acute traumatic coagulopathy.\n",
      "\n",
      "-----------------------------------\n",
      "\n"
     ]
    },
    {
     "data": {
      "application/vnd.jupyter.widget-view+json": {
       "model_id": "786e757dce6541ae8be3e726b4709763",
       "version_major": 2,
       "version_minor": 0
      },
      "text/plain": [
       "Batches:   0%|          | 0/1 [00:00<?, ?it/s]"
      ]
     },
     "metadata": {},
     "output_type": "display_data"
    },
    {
     "name": "stdout",
     "output_type": "stream",
     "text": [
      "Question: Is circulating soluble LR11 , a novel marker of smooth muscle cell proliferation , enhanced after coronary stenting in response to vascular injury?\n",
      "Answer from pipeline:\n",
      "Yes, circulating soluble LR11 levels are enhanced after coronary stenting in response to vascular injury, as indicated by the significant increase in these levels on days 14 and 60 after the procedure.\n",
      "\n",
      "-----------------------------------\n",
      "\n"
     ]
    },
    {
     "data": {
      "application/vnd.jupyter.widget-view+json": {
       "model_id": "20cea2a1e20a483f8bcead520e6360f8",
       "version_major": 2,
       "version_minor": 0
      },
      "text/plain": [
       "Batches:   0%|          | 0/1 [00:00<?, ?it/s]"
      ]
     },
     "metadata": {},
     "output_type": "display_data"
    },
    {
     "name": "stdout",
     "output_type": "stream",
     "text": [
      "Question: Do central adenosine A1 and A2A receptors mediate the antinociceptive effects of neuropeptide S in the mouse formalin test?\n",
      "Answer from pipeline:\n",
      "Yes, central adenosine A1 and A2A receptors mediate the antinociceptive effects of neuropeptide S in the mouse formalin test, as their respective antagonists (DPCPX for A1 and ZM241385 for A2A) blocked the antinociceptive effects of NPS.\n",
      "\n",
      "-----------------------------------\n",
      "\n"
     ]
    },
    {
     "data": {
      "application/vnd.jupyter.widget-view+json": {
       "model_id": "94f21e4addc2401b8ab2c39552739fa3",
       "version_major": 2,
       "version_minor": 0
      },
      "text/plain": [
       "Batches:   0%|          | 0/1 [00:00<?, ?it/s]"
      ]
     },
     "metadata": {},
     "output_type": "display_data"
    },
    {
     "name": "stdout",
     "output_type": "stream",
     "text": [
      "Question: Does astaxanthin prevent TGFβ1-induced pro-fibrogenic gene expression by inhibiting Smad3 activation in hepatic stellate cells?\n",
      "Answer from pipeline:\n",
      "Yes, astaxanthin prevents TGFβ1-induced pro-fibrogenic gene expression by inhibiting Smad3 activation in hepatic stellate cells. It was noted that ASTX significantly decreased TGFβ1-induced expression of α-smooth muscle actin (α-SMA) and procollagen type 1, alpha 1 (Col1A1) at both mRNA and protein levels. Additionally, ASTX attenuated TGFβ1-induced Smad3 phosphorylation and nuclear translocation, indicating its role in inhibiting Smad3 activation.\n",
      "\n",
      "-----------------------------------\n",
      "\n"
     ]
    },
    {
     "data": {
      "application/vnd.jupyter.widget-view+json": {
       "model_id": "057362d9a9354a8a96226bdeec1458b8",
       "version_major": 2,
       "version_minor": 0
      },
      "text/plain": [
       "Batches:   0%|          | 0/1 [00:00<?, ?it/s]"
      ]
     },
     "metadata": {},
     "output_type": "display_data"
    },
    {
     "name": "stdout",
     "output_type": "stream",
     "text": [
      "Question: Does early-life stress selectively affect gastrointestinal but not behavioral responses in a genetic model of brain-gut axis dysfunction?\n",
      "Answer from pipeline:\n",
      "Yes, early-life stress selectively affects gastrointestinal responses but not behavioral responses in the genetic model of brain-gut axis dysfunction, as indicated by the findings that maternal separation (MS) did not further influence anxiety- and depressive-like behaviors in the WKY animals, but it did lead to significantly increased colonic visceral hypersensitivity and altered colonic cholinergic sensitivity.\n",
      "\n",
      "-----------------------------------\n",
      "\n"
     ]
    },
    {
     "data": {
      "application/vnd.jupyter.widget-view+json": {
       "model_id": "5f0ceaa8e93746e0a17c6c94f3a640f3",
       "version_major": 2,
       "version_minor": 0
      },
      "text/plain": [
       "Batches:   0%|          | 0/1 [00:00<?, ?it/s]"
      ]
     },
     "metadata": {},
     "output_type": "display_data"
    },
    {
     "name": "stdout",
     "output_type": "stream",
     "text": [
      "Question: Do endothelial progenitor cells induce transplant arteriosclerosis via VEGFR-1/2 activity?\n",
      "Answer from pipeline:\n",
      "The context suggests that endothelial progenitor cells (EPCs) are involved in transplant arteriosclerosis (TA) following acute rejection after organ transplantation. Although it mentions changes in VEGFR-1, pVEGFR-1, VEGFR-2, and pVEGFR-2 levels in EPCs upon exposure to VEGF165 and the VEGFR inhibitor Vandetanib, it does not directly state that EPCs induce TA via VEGFR-1/2 activity. Instead, the study highlights the potential adverse effects of EPCs contributing to TA, implying a complex role rather than a straightforward induction. Thus, the answer to the question is not definitively confirmed within the provided context.\n",
      "\n",
      "-----------------------------------\n",
      "\n"
     ]
    },
    {
     "data": {
      "application/vnd.jupyter.widget-view+json": {
       "model_id": "219c540b96db41a2a661e237e0382c66",
       "version_major": 2,
       "version_minor": 0
      },
      "text/plain": [
       "Batches:   0%|          | 0/1 [00:00<?, ?it/s]"
      ]
     },
     "metadata": {},
     "output_type": "display_data"
    },
    {
     "name": "stdout",
     "output_type": "stream",
     "text": [
      "Question: Does nT-proBNP and Echocardiographic Parameters for Prediction of Cardiovascular Outcomes in Patients with CKD stage G2-G4?\n",
      "Answer from pipeline:\n",
      "Yes, both nT-proBNP and echocardiographic parameters predict cardiovascular outcomes in patients with CKD stage G2-G4. The study found that NT-proBNP remained an independent predictor for adverse cardiovascular events, while certain echocardiographic parameters did not. Additionally, the combination of NT-proBNP with clinical and various echocardiographic variables improved the reclassification of risk for adverse outcomes.\n",
      "\n",
      "-----------------------------------\n",
      "\n"
     ]
    },
    {
     "data": {
      "application/vnd.jupyter.widget-view+json": {
       "model_id": "6a07f4b5f378455b97129be66a7d7438",
       "version_major": 2,
       "version_minor": 0
      },
      "text/plain": [
       "Batches:   0%|          | 0/1 [00:00<?, ?it/s]"
      ]
     },
     "metadata": {},
     "output_type": "display_data"
    },
    {
     "name": "stdout",
     "output_type": "stream",
     "text": [
      "Question: Does spinal Cord Stimulation modulate Gene Expression in the Spinal Cord of an Animal Model of Peripheral Nerve Injury?\n",
      "Answer from pipeline:\n",
      "Yes, spinal cord stimulation (SCS) therapy modulates gene expression in the spinal cord of an animal model of peripheral nerve injury. The study found that SCS therapy influenced the expression of genes such as 5HT3ra, cFOS, and GABAbr1 in the spinal cord tissues of the rats.\n",
      "\n",
      "-----------------------------------\n",
      "\n"
     ]
    },
    {
     "data": {
      "application/vnd.jupyter.widget-view+json": {
       "model_id": "50bc0a638ae94fcb9f494edf4560cd49",
       "version_major": 2,
       "version_minor": 0
      },
      "text/plain": [
       "Batches:   0%|          | 0/1 [00:00<?, ?it/s]"
      ]
     },
     "metadata": {},
     "output_type": "display_data"
    },
    {
     "name": "stdout",
     "output_type": "stream",
     "text": [
      "Question: Is hypothalamic damage associated with inflammatory markers and worse cognitive performance in obese subjects?\n",
      "Answer from pipeline:\n",
      "Yes, hypothalamic damage is associated with inflammatory markers and worse cognitive performance in obese subjects. The study indicated that patients with hypothalamic λ(1) < 1.072 (a marker of hypothalamic damage) had higher values of body mass index (BMI), fat mass, inflammatory markers, and lower scores on cognitive tests. This suggests a link between hypothalamic damage, inflammation, and cognitive dysfunction in obese individuals.\n",
      "\n",
      "-----------------------------------\n",
      "\n"
     ]
    },
    {
     "data": {
      "application/vnd.jupyter.widget-view+json": {
       "model_id": "deeabc433fbd451ab6f938c2876b246f",
       "version_major": 2,
       "version_minor": 0
      },
      "text/plain": [
       "Batches:   0%|          | 0/1 [00:00<?, ?it/s]"
      ]
     },
     "metadata": {},
     "output_type": "display_data"
    },
    {
     "name": "stdout",
     "output_type": "stream",
     "text": [
      "Question: Does common variable immunodeficiency in adults require reserved protocols for long-term follow-up?\n",
      "Answer from pipeline:\n",
      "Yes, common variable immunodeficiency (CVID) in adults requires reserved protocols for long-term follow-up, as indicated by the study aiming to establish follow-up protocols for adult patients with CVID in a recently founded clinic. The need for follow-up plans, detection and management of complications/comorbidities, and treatment results suggests that structured protocols are necessary for effective long-term management of CVID.\n",
      "\n",
      "-----------------------------------\n",
      "\n"
     ]
    },
    {
     "data": {
      "application/vnd.jupyter.widget-view+json": {
       "model_id": "31a67a39dbab45c1a9e5c85dbc635792",
       "version_major": 2,
       "version_minor": 0
      },
      "text/plain": [
       "Batches:   0%|          | 0/1 [00:00<?, ?it/s]"
      ]
     },
     "metadata": {},
     "output_type": "display_data"
    },
    {
     "name": "stdout",
     "output_type": "stream",
     "text": [
      "Question: Do mesalazine and thymoquinone attenuate intestinal tumour development in Msh2 ( loxP/loxP ) Villin-Cre mice?\n",
      "Answer from pipeline:\n",
      "Yes, mesalazine and thymoquinone attenuate intestinal tumour development in Msh2(loxP/loxP) Villin-Cre mice. Mesalazine reduced tumour incidence from 94% to 69% and thymoquinone further reduced it to 56%. Additionally, the mean number of tumours was reduced by mesalazine from 3.1 to 1.4 and by thymoquinone to 1.1.\n",
      "\n",
      "-----------------------------------\n",
      "\n"
     ]
    },
    {
     "data": {
      "application/vnd.jupyter.widget-view+json": {
       "model_id": "db76327c2b784b6ca94fbfa367a1d306",
       "version_major": 2,
       "version_minor": 0
      },
      "text/plain": [
       "Batches:   0%|          | 0/1 [00:00<?, ?it/s]"
      ]
     },
     "metadata": {},
     "output_type": "display_data"
    },
    {
     "name": "stdout",
     "output_type": "stream",
     "text": [
      "Question: Is structural maintenance of chromosomes 4 a predictor of survival and a novel therapeutic target in colorectal cancer?\n",
      "Answer from pipeline:\n",
      "The context does not provide specific information regarding whether structural maintenance of chromosomes 4 (SMC-4) is a predictor of survival or a novel therapeutic target in colorectal cancer. It mentions that SMC-4 expression is significantly higher in colorectal cancer and is associated with various clinical stages and differentiation, suggesting its potential relevance in cancer biology. However, it does not explicitly state its role as a predictor of survival or its viability as a therapeutic target. Further studies would be needed to clarify these aspects.\n",
      "\n",
      "-----------------------------------\n",
      "\n"
     ]
    },
    {
     "data": {
      "application/vnd.jupyter.widget-view+json": {
       "model_id": "004600ec51a1455f9ecb8a4ca906dd8a",
       "version_major": 2,
       "version_minor": 0
      },
      "text/plain": [
       "Batches:   0%|          | 0/1 [00:00<?, ?it/s]"
      ]
     },
     "metadata": {},
     "output_type": "display_data"
    },
    {
     "name": "stdout",
     "output_type": "stream",
     "text": [
      "Question: Is quality of life in stabilized patients with schizophrenia mainly associated with resilience and self-esteem?\n",
      "Answer from pipeline:\n",
      "Yes, quality of life in stabilized patients with schizophrenia is correlated moderately with resilience and self-esteem, as indicated in the study.\n",
      "\n",
      "-----------------------------------\n",
      "\n"
     ]
    },
    {
     "data": {
      "application/vnd.jupyter.widget-view+json": {
       "model_id": "2db515cfa0b84a0d943e0852072199fe",
       "version_major": 2,
       "version_minor": 0
      },
      "text/plain": [
       "Batches:   0%|          | 0/1 [00:00<?, ?it/s]"
      ]
     },
     "metadata": {},
     "output_type": "display_data"
    },
    {
     "name": "stdout",
     "output_type": "stream",
     "text": [
      "Question: Is altered perineal microbiome associated with vulvovaginitis and urinary tract infection in preadolescent girls?\n",
      "Answer from pipeline:\n",
      "Yes, altered perineal microbiome is associated with vulvovaginitis and urinary tract infections (UTIs) in preadolescent girls. The presence of vulvovaginitis significantly increases periurethral colonization with uropathogenic bacteria, which in turn is linked to a higher prevalence of UTIs in girls with vulvovaginitis compared to those without.\n",
      "\n",
      "-----------------------------------\n",
      "\n"
     ]
    },
    {
     "data": {
      "application/vnd.jupyter.widget-view+json": {
       "model_id": "f50e8e21288a4fadbb409c8d0b65d16e",
       "version_major": 2,
       "version_minor": 0
      },
      "text/plain": [
       "Batches:   0%|          | 0/1 [00:00<?, ?it/s]"
      ]
     },
     "metadata": {},
     "output_type": "display_data"
    },
    {
     "name": "stdout",
     "output_type": "stream",
     "text": [
      "Question: Does leukocyte concentration and composition in platelet-rich plasma ( PRP ) influence the growth factor and protease concentrations?\n",
      "Answer from pipeline:\n",
      "Yes, the leukocyte concentration and composition in platelet-rich plasma (PRP) influence the growth factor and protease concentrations. The study found that the leukocyte concentration positively correlated with platelet-derived growth factor-BB (PDGF-BB) and vascular endothelial growth factor (VEGF) concentrations, while it negatively correlated with fibroblast growth factor-basic (FGF-b). Additionally, the concentration of matrix metalloproteinase-9 (MMP-9) strongly correlated with the leukocyte concentration.\n",
      "\n",
      "-----------------------------------\n",
      "\n"
     ]
    },
    {
     "data": {
      "application/vnd.jupyter.widget-view+json": {
       "model_id": "bfde510623ef4d47b20b6fbdb1c0456a",
       "version_major": 2,
       "version_minor": 0
      },
      "text/plain": [
       "Batches:   0%|          | 0/1 [00:00<?, ?it/s]"
      ]
     },
     "metadata": {},
     "output_type": "display_data"
    },
    {
     "name": "stdout",
     "output_type": "stream",
     "text": [
      "Question: Is progression of EGFR mutant lung adenocarcinoma driven by alveolar macrophages?\n",
      "Answer from pipeline:\n",
      "Yes, the progression of EGFR mutant lung adenocarcinoma is driven by alveolar macrophages. The study indicates that the progression and remission of the tumor are dependent on the expansion and contraction of alveolar macrophages, with local proliferation being the mechanism underlying macrophage expansion. Additionally, the depletion of alveolar macrophages in tumor-bearing mice resulted in a reduction of tumor burden, highlighting their critical role in the development of EGFR mutant adenocarcinoma.\n",
      "\n",
      "-----------------------------------\n",
      "\n"
     ]
    }
   ],
   "source": [
    "rag_answers = []\n",
    "retrieved_docs = []\n",
    "\n",
    "for question in list(questions):\n",
    "  response = rag_pipeline.run(\n",
    "    {\n",
    "      'query_embedder': {'text': question},\n",
    "      'prompt_builder': {'question': question},\n",
    "      'answer_builder': {'query': question}\n",
    "    }\n",
    "  )\n",
    "\n",
    "  print(f\"Question: {question}\")  \n",
    "  print(\"Answer from pipeline:\")\n",
    "  print(response[\"answer_builder\"][\"answers\"][0].data)\n",
    "  print(\"\\n-----------------------------------\\n\")\n",
    "  rag_answers.append(response[\"answer_builder\"][\"answers\"][0].data)\n",
    "  retrieved_docs.append(response[\"answer_builder\"][\"answers\"][0].documents)"
   ]
  },
  {
   "cell_type": "code",
   "execution_count": 9,
   "metadata": {},
   "outputs": [
    {
     "name": "stderr",
     "output_type": "stream",
     "text": [
      "d:\\Projects\\VirtualTA\\venv\\Lib\\site-packages\\transformers\\models\\auto\\configuration_auto.py:1006: FutureWarning: The `use_auth_token` argument is deprecated and will be removed in v5 of Transformers. Please use `token` instead.\n",
      "  warnings.warn(\n",
      "d:\\Projects\\VirtualTA\\venv\\Lib\\site-packages\\sentence_transformers\\SentenceTransformer.py:195: FutureWarning: The `use_auth_token` argument is deprecated and will be removed in v4 of SentenceTransformers.\n",
      "  warnings.warn(\n",
      "100%|██████████| 25/25 [01:00<00:00,  2.44s/it]\n"
     ]
    }
   ],
   "source": [
    "from haystack.components.evaluators.document_mrr import DocumentMRREvaluator\n",
    "from haystack.components.evaluators.faithfulness import FaithfulnessEvaluator\n",
    "from haystack.components.evaluators.sas_evaluator import SASEvaluator\n",
    "\n",
    "eval_pipeline = Pipeline()\n",
    "eval_pipeline.add_component(\"doc_mrr_evaluator\", DocumentMRREvaluator())\n",
    "eval_pipeline.add_component(\"faithfulness\", FaithfulnessEvaluator())\n",
    "eval_pipeline.add_component(\"sas_evaluator\", SASEvaluator(model=\"sentence-transformers/all-MiniLM-L6-v2\"))\n",
    "\n",
    "results = eval_pipeline.run(\n",
    "    {\n",
    "        \"doc_mrr_evaluator\": {\n",
    "            \"ground_truth_documents\": list([d] for d in ground_truth_docs),\n",
    "            \"retrieved_documents\": retrieved_docs,\n",
    "        },\n",
    "        \"faithfulness\": {\n",
    "            \"questions\": list(questions),\n",
    "            \"contexts\": list([d.content] for d in ground_truth_docs),\n",
    "            \"predicted_answers\": rag_answers,\n",
    "        },\n",
    "        \"sas_evaluator\": {\"predicted_answers\": rag_answers, \"ground_truth_answers\": list(ground_truth_answers)},\n",
    "    }\n",
    ")"
   ]
  },
  {
   "cell_type": "code",
   "execution_count": 10,
   "metadata": {},
   "outputs": [
    {
     "data": {
      "text/html": [
       "<div>\n",
       "<style scoped>\n",
       "    .dataframe tbody tr th:only-of-type {\n",
       "        vertical-align: middle;\n",
       "    }\n",
       "\n",
       "    .dataframe tbody tr th {\n",
       "        vertical-align: top;\n",
       "    }\n",
       "\n",
       "    .dataframe thead th {\n",
       "        text-align: right;\n",
       "    }\n",
       "</style>\n",
       "<table border=\"1\" class=\"dataframe\">\n",
       "  <thead>\n",
       "    <tr style=\"text-align: right;\">\n",
       "      <th></th>\n",
       "      <th>metrics</th>\n",
       "      <th>score</th>\n",
       "    </tr>\n",
       "  </thead>\n",
       "  <tbody>\n",
       "    <tr>\n",
       "      <th>0</th>\n",
       "      <td>doc_mrr_evaluator</td>\n",
       "      <td>1.000000</td>\n",
       "    </tr>\n",
       "    <tr>\n",
       "      <th>1</th>\n",
       "      <td>faithfulness</td>\n",
       "      <td>1.000000</td>\n",
       "    </tr>\n",
       "    <tr>\n",
       "      <th>2</th>\n",
       "      <td>sas_evaluator</td>\n",
       "      <td>0.708761</td>\n",
       "    </tr>\n",
       "  </tbody>\n",
       "</table>\n",
       "</div>"
      ],
      "text/plain": [
       "             metrics     score\n",
       "0  doc_mrr_evaluator  1.000000\n",
       "1       faithfulness  1.000000\n",
       "2      sas_evaluator  0.708761"
      ]
     },
     "execution_count": 10,
     "metadata": {},
     "output_type": "execute_result"
    }
   ],
   "source": [
    "from haystack.evaluation.eval_run_result import EvaluationRunResult\n",
    "\n",
    "inputs = {\n",
    "    \"question\": list(questions),\n",
    "    \"contexts\": list([d.content] for d in ground_truth_docs),\n",
    "    \"answer\": list(ground_truth_answers),\n",
    "    \"predicted_answer\": rag_answers,\n",
    "}\n",
    "\n",
    "evaluation_result = EvaluationRunResult(run_name=\"pubmed_rag_pipeline\", inputs=inputs, results=results)\n",
    "evaluation_result.score_report()"
   ]
  },
  {
   "cell_type": "code",
   "execution_count": 11,
   "metadata": {},
   "outputs": [
    {
     "data": {
      "text/html": [
       "<div>\n",
       "<style scoped>\n",
       "    .dataframe tbody tr th:only-of-type {\n",
       "        vertical-align: middle;\n",
       "    }\n",
       "\n",
       "    .dataframe tbody tr th {\n",
       "        vertical-align: top;\n",
       "    }\n",
       "\n",
       "    .dataframe thead th {\n",
       "        text-align: right;\n",
       "    }\n",
       "</style>\n",
       "<table border=\"1\" class=\"dataframe\">\n",
       "  <thead>\n",
       "    <tr style=\"text-align: right;\">\n",
       "      <th></th>\n",
       "      <th>question</th>\n",
       "      <th>contexts</th>\n",
       "      <th>answer</th>\n",
       "      <th>predicted_answer</th>\n",
       "      <th>doc_mrr_evaluator</th>\n",
       "      <th>faithfulness</th>\n",
       "      <th>sas_evaluator</th>\n",
       "    </tr>\n",
       "  </thead>\n",
       "  <tbody>\n",
       "    <tr>\n",
       "      <th>11</th>\n",
       "      <td>Do central adenosine A1 and A2A receptors medi...</td>\n",
       "      <td>[The present study aimed to investigate the in...</td>\n",
       "      <td>The above findings suggest that: (i) NPS evoke...</td>\n",
       "      <td>Yes, central adenosine A1 and A2A receptors me...</td>\n",
       "      <td>1.0</td>\n",
       "      <td>1.0</td>\n",
       "      <td>0.891792</td>\n",
       "    </tr>\n",
       "    <tr>\n",
       "      <th>15</th>\n",
       "      <td>Does nT-proBNP and Echocardiographic Parameter...</td>\n",
       "      <td>[Natriuretic peptides and echocardiographic pa...</td>\n",
       "      <td>Our data confirm NT-proBNP is an independent p...</td>\n",
       "      <td>Yes, both nT-proBNP and echocardiographic para...</td>\n",
       "      <td>1.0</td>\n",
       "      <td>1.0</td>\n",
       "      <td>0.866158</td>\n",
       "    </tr>\n",
       "    <tr>\n",
       "      <th>0</th>\n",
       "      <td>Are pre-transplant impedance measures of reflu...</td>\n",
       "      <td>[Acid reflux has been associated with poorer o...</td>\n",
       "      <td>Prolonged bolus clearance, increased total dis...</td>\n",
       "      <td>Yes, pre-transplant impedance measures of refl...</td>\n",
       "      <td>1.0</td>\n",
       "      <td>1.0</td>\n",
       "      <td>0.855975</td>\n",
       "    </tr>\n",
       "    <tr>\n",
       "      <th>6</th>\n",
       "      <td>Are multiple pathways responsible for anti-inf...</td>\n",
       "      <td>[Hordeum vulgare L. (HV or barley) is used by ...</td>\n",
       "      <td>These results suggest the likely mechanisms re...</td>\n",
       "      <td>Yes, multiple pathways are responsible for the...</td>\n",
       "      <td>1.0</td>\n",
       "      <td>1.0</td>\n",
       "      <td>0.401589</td>\n",
       "    </tr>\n",
       "    <tr>\n",
       "      <th>23</th>\n",
       "      <td>Does leukocyte concentration and composition i...</td>\n",
       "      <td>[Platelet-rich plasma (PRP) therapy has become...</td>\n",
       "      <td>These findings demonstrate that leukocytes str...</td>\n",
       "      <td>Yes, the leukocyte concentration and compositi...</td>\n",
       "      <td>1.0</td>\n",
       "      <td>1.0</td>\n",
       "      <td>0.529442</td>\n",
       "    </tr>\n",
       "    <tr>\n",
       "      <th>13</th>\n",
       "      <td>Does early-life stress selectively affect gast...</td>\n",
       "      <td>[Early-life stress and a genetic predispositio...</td>\n",
       "      <td>Our data suggest that early-life stress, on th...</td>\n",
       "      <td>Yes, early-life stress selectively affects gas...</td>\n",
       "      <td>1.0</td>\n",
       "      <td>1.0</td>\n",
       "      <td>0.598352</td>\n",
       "    </tr>\n",
       "  </tbody>\n",
       "</table>\n",
       "</div>"
      ],
      "text/plain": [
       "                                             question  \\\n",
       "11  Do central adenosine A1 and A2A receptors medi...   \n",
       "15  Does nT-proBNP and Echocardiographic Parameter...   \n",
       "0   Are pre-transplant impedance measures of reflu...   \n",
       "6   Are multiple pathways responsible for anti-inf...   \n",
       "23  Does leukocyte concentration and composition i...   \n",
       "13  Does early-life stress selectively affect gast...   \n",
       "\n",
       "                                             contexts  \\\n",
       "11  [The present study aimed to investigate the in...   \n",
       "15  [Natriuretic peptides and echocardiographic pa...   \n",
       "0   [Acid reflux has been associated with poorer o...   \n",
       "6   [Hordeum vulgare L. (HV or barley) is used by ...   \n",
       "23  [Platelet-rich plasma (PRP) therapy has become...   \n",
       "13  [Early-life stress and a genetic predispositio...   \n",
       "\n",
       "                                               answer  \\\n",
       "11  The above findings suggest that: (i) NPS evoke...   \n",
       "15  Our data confirm NT-proBNP is an independent p...   \n",
       "0   Prolonged bolus clearance, increased total dis...   \n",
       "6   These results suggest the likely mechanisms re...   \n",
       "23  These findings demonstrate that leukocytes str...   \n",
       "13  Our data suggest that early-life stress, on th...   \n",
       "\n",
       "                                     predicted_answer  doc_mrr_evaluator  \\\n",
       "11  Yes, central adenosine A1 and A2A receptors me...                1.0   \n",
       "15  Yes, both nT-proBNP and echocardiographic para...                1.0   \n",
       "0   Yes, pre-transplant impedance measures of refl...                1.0   \n",
       "6   Yes, multiple pathways are responsible for the...                1.0   \n",
       "23  Yes, the leukocyte concentration and compositi...                1.0   \n",
       "13  Yes, early-life stress selectively affects gas...                1.0   \n",
       "\n",
       "    faithfulness  sas_evaluator  \n",
       "11           1.0       0.891792  \n",
       "15           1.0       0.866158  \n",
       "0            1.0       0.855975  \n",
       "6            1.0       0.401589  \n",
       "23           1.0       0.529442  \n",
       "13           1.0       0.598352  "
      ]
     },
     "execution_count": 11,
     "metadata": {},
     "output_type": "execute_result"
    }
   ],
   "source": [
    "import pandas as pd\n",
    "\n",
    "results_df = evaluation_result.to_pandas()\n",
    "top_3 = results_df.nlargest(3, \"sas_evaluator\")\n",
    "bottom_3 = results_df.nsmallest(3, \"sas_evaluator\")\n",
    "pd.concat([top_3, bottom_3])"
   ]
  }
 ],
 "metadata": {
  "kernelspec": {
   "display_name": "venv",
   "language": "python",
   "name": "python3"
  },
  "language_info": {
   "codemirror_mode": {
    "name": "ipython",
    "version": 3
   },
   "file_extension": ".py",
   "mimetype": "text/x-python",
   "name": "python",
   "nbconvert_exporter": "python",
   "pygments_lexer": "ipython3",
   "version": "3.12.2"
  }
 },
 "nbformat": 4,
 "nbformat_minor": 2
}
