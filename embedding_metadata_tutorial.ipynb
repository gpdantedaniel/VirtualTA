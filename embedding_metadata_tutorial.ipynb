{
 "cells": [
  {
   "cell_type": "code",
   "execution_count": 1,
   "metadata": {},
   "outputs": [],
   "source": [
    "from haystack.telemetry import tutorial_running\n",
    "\n",
    "tutorial_running(39)"
   ]
  },
  {
   "cell_type": "code",
   "execution_count": 2,
   "metadata": {},
   "outputs": [],
   "source": [
    "from haystack.components.embedders import SentenceTransformersDocumentEmbedder\n",
    "\n",
    "embedder = SentenceTransformersDocumentEmbedder(meta_fields_to_embed=['url'])"
   ]
  },
  {
   "cell_type": "code",
   "execution_count": 4,
   "metadata": {},
   "outputs": [],
   "source": [
    "from haystack import Pipeline\n",
    "from haystack.components.preprocessors import DocumentCleaner, DocumentSplitter\n",
    "from haystack.components.embedders import SentenceTransformersDocumentEmbedder\n",
    "from haystack.components.writers import DocumentWriter\n",
    "from haystack.document_stores.types import DuplicatePolicy\n",
    "from haystack.utils import ComponentDevice\n",
    "\n",
    "def create_indexing_pipeline(document_store, metadata_fields_to_embed=None):\n",
    "  document_cleaner = DocumentCleaner()\n",
    "  document_splitter = DocumentSplitter(split_by='sentence', split_length=2)\n",
    "  document_embedder = SentenceTransformersDocumentEmbedder(\n",
    "    model='thenlper/gte-large', meta_fields_to_embed=metadata_fields_to_embed\n",
    "  )\n",
    "  document_writer = DocumentWriter(document_store=document_store, policy=DuplicatePolicy.OVERWRITE)\n",
    "\n",
    "  indexing_pipeline = Pipeline()\n",
    "  indexing_pipeline.add_component('cleaner', document_cleaner)\n",
    "  indexing_pipeline.add_component('splitter', document_splitter)\n",
    "  indexing_pipeline.add_component('embedder', document_embedder)\n",
    "  indexing_pipeline.add_component('writer', document_writer)\n",
    "\n",
    "  indexing_pipeline.connect('cleaner', 'splitter')\n",
    "  indexing_pipeline.connect('splitter', 'embedder')\n",
    "  indexing_pipeline.connect('embedder', 'writer')\n",
    "\n",
    "  return indexing_pipeline"
   ]
  },
  {
   "cell_type": "code",
   "execution_count": null,
   "metadata": {},
   "outputs": [
    {
     "data": {
      "application/vnd.jupyter.widget-view+json": {
       "model_id": "1789dba9501246faa8f80259a2335bce",
       "version_major": 2,
       "version_minor": 0
      },
      "text/plain": [
       "Batches:   0%|          | 0/17 [00:00<?, ?it/s]"
      ]
     },
     "metadata": {},
     "output_type": "display_data"
    }
   ],
   "source": [
    "import wikipedia\n",
    "from haystack import Document\n",
    "from haystack.document_stores.in_memory import InMemoryDocumentStore\n",
    "\n",
    "some_bands = \"\"\"The Beatles, The Cure\"\"\".split(',')\n",
    "\n",
    "raw_docs = []\n",
    "\n",
    "for title in some_bands:\n",
    "  page = wikipedia.page(title=title, auto_suggest=False)\n",
    "  doc = Document(content=page.content, meta={'title': page.title, 'url': page.url})\n",
    "  raw_docs.append(doc)\n",
    "\n",
    "document_store = InMemoryDocumentStore(embedding_similarity_function='cosine')\n",
    "document_store_with_embedded_metadata = InMemoryDocumentStore(embedding_similarity_function='cosine')\n",
    "\n",
    "indexing_pipeline = create_indexing_pipeline(document_store=document_store)\n",
    "indexing_with_metadata_pipeline = create_indexing_pipeline(document_store=document_store_with_embedded_metadata, metadata_fields_to_embed=['title'])\n",
    "\n",
    "indexing_pipeline.run({'cleaner': {'documents': raw_docs}})\n",
    "indexing_with_metadata_pipeline.run({'cleaner': {'documents': raw_docs}})"
   ]
  },
  {
   "cell_type": "code",
   "execution_count": null,
   "metadata": {},
   "outputs": [],
   "source": [
    "from haystack.components.embedders import SentenceTransformersTextEmbedder\n",
    "from haystack.components.retrievers.in_memory import InMemoryEmbeddingRetriever\n",
    "\n",
    "retrieval_pipeline = Pipeline()\n",
    "retrieval_pipeline.add_component('text_embedder', SentenceTransformersTextEmbedder(model='thenlper/gte-large'))\n",
    "retrieval_pipeline.add_component(\"retriever\", InMemoryEmbeddingRetriever(document_store=document_store, scale_score=False, top_k=3))\n",
    "retrieval_pipeline.add_component(\"retriever_with_embeddings\", InMemoryEmbeddingRetriever(document_store=document_store_with_embedded_metadata, scale_score=False, top_k=3),)"
   ]
  },
  {
   "cell_type": "code",
   "execution_count": null,
   "metadata": {},
   "outputs": [],
   "source": []
  }
 ],
 "metadata": {
  "kernelspec": {
   "display_name": "venv",
   "language": "python",
   "name": "python3"
  },
  "language_info": {
   "codemirror_mode": {
    "name": "ipython",
    "version": 3
   },
   "file_extension": ".py",
   "mimetype": "text/x-python",
   "name": "python",
   "nbconvert_exporter": "python",
   "pygments_lexer": "ipython3",
   "version": "3.12.2"
  }
 },
 "nbformat": 4,
 "nbformat_minor": 2
}
