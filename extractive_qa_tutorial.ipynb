{
 "cells": [
  {
   "cell_type": "code",
   "execution_count": null,
   "metadata": {},
   "outputs": [],
   "source": [
    "from haystack.telemetry import tutorial_running\n",
    "\n",
    "tutorial_running(34)"
   ]
  },
  {
   "cell_type": "code",
   "execution_count": 1,
   "metadata": {},
   "outputs": [
    {
     "data": {
      "application/vnd.jupyter.widget-view+json": {
       "model_id": "a65b3af352c945c8916c63e3e8ae446b",
       "version_major": 2,
       "version_minor": 0
      },
      "text/plain": [
       "modules.json:   0%|          | 0.00/229 [00:00<?, ?B/s]"
      ]
     },
     "metadata": {},
     "output_type": "display_data"
    },
    {
     "name": "stderr",
     "output_type": "stream",
     "text": [
      "d:\\Projects\\VirtualTA\\venv\\Lib\\site-packages\\huggingface_hub\\file_download.py:140: UserWarning: `huggingface_hub` cache-system uses symlinks by default to efficiently store duplicated files but your machine does not support them in D:\\hf_cache\\models--sentence-transformers--multi-qa-mpnet-base-dot-v1. Caching files will still work but in a degraded version that might require more space on your disk. This warning can be disabled by setting the `HF_HUB_DISABLE_SYMLINKS_WARNING` environment variable. For more details, see https://huggingface.co/docs/huggingface_hub/how-to-cache#limitations.\n",
      "To support symlinks on Windows, you either need to activate Developer Mode or to run Python as an administrator. In order to activate developer mode, see this article: https://docs.microsoft.com/en-us/windows/apps/get-started/enable-your-device-for-development\n",
      "  warnings.warn(message)\n"
     ]
    },
    {
     "data": {
      "application/vnd.jupyter.widget-view+json": {
       "model_id": "324c5c0862a54fa393b18f85574dab1a",
       "version_major": 2,
       "version_minor": 0
      },
      "text/plain": [
       "config_sentence_transformers.json:   0%|          | 0.00/212 [00:00<?, ?B/s]"
      ]
     },
     "metadata": {},
     "output_type": "display_data"
    },
    {
     "data": {
      "application/vnd.jupyter.widget-view+json": {
       "model_id": "7afe23b30cfe4fe1bf44150b3935cf46",
       "version_major": 2,
       "version_minor": 0
      },
      "text/plain": [
       "README.md:   0%|          | 0.00/8.71k [00:00<?, ?B/s]"
      ]
     },
     "metadata": {},
     "output_type": "display_data"
    },
    {
     "data": {
      "application/vnd.jupyter.widget-view+json": {
       "model_id": "53d7cf330b844d6f9c78c62eca9f854b",
       "version_major": 2,
       "version_minor": 0
      },
      "text/plain": [
       "sentence_bert_config.json:   0%|          | 0.00/53.0 [00:00<?, ?B/s]"
      ]
     },
     "metadata": {},
     "output_type": "display_data"
    },
    {
     "data": {
      "application/vnd.jupyter.widget-view+json": {
       "model_id": "dd1ce42821d14dd8adf1765fe1b9ec5c",
       "version_major": 2,
       "version_minor": 0
      },
      "text/plain": [
       "1_Pooling/config.json:   0%|          | 0.00/190 [00:00<?, ?B/s]"
      ]
     },
     "metadata": {},
     "output_type": "display_data"
    },
    {
     "data": {
      "application/vnd.jupyter.widget-view+json": {
       "model_id": "95f18e0a69414ec9a286c8706edcb87e",
       "version_major": 2,
       "version_minor": 0
      },
      "text/plain": [
       "Batches:   0%|          | 0/5 [00:00<?, ?it/s]"
      ]
     },
     "metadata": {},
     "output_type": "display_data"
    },
    {
     "data": {
      "text/plain": [
       "{'writer': {'documents_written': 151}}"
      ]
     },
     "execution_count": 1,
     "metadata": {},
     "output_type": "execute_result"
    }
   ],
   "source": [
    "from datasets import load_dataset\n",
    "from haystack import Document\n",
    "from haystack import Pipeline\n",
    "from haystack.document_stores.in_memory import InMemoryDocumentStore\n",
    "from haystack.components.retrievers.in_memory import InMemoryEmbeddingRetriever\n",
    "from haystack.components.readers import ExtractiveReader\n",
    "from haystack.components.embedders import SentenceTransformersDocumentEmbedder\n",
    "from haystack.components.writers import DocumentWriter\n",
    "\n",
    "dataset = load_dataset('bilgeyucel/seven-wonders', split='train')\n",
    "documents = [Document(content=doc['content'], meta=doc['meta']) for doc in dataset]\n",
    "model = 'sentence-transformers/multi-qa-mpnet-base-dot-v1'\n",
    "document_store = InMemoryDocumentStore()\n",
    "indexing_pipeline = Pipeline()\n",
    "\n",
    "indexing_pipeline.add_component(instance=SentenceTransformersDocumentEmbedder(model=model), name='embedder')\n",
    "indexing_pipeline.add_component(instance=DocumentWriter(document_store=document_store), name='writer')\n",
    "\n",
    "indexing_pipeline.connect('embedder.documents', 'writer.documents')\n",
    "\n",
    "indexing_pipeline.run({'documents': documents})"
   ]
  },
  {
   "cell_type": "code",
   "execution_count": 3,
   "metadata": {},
   "outputs": [
    {
     "data": {
      "text/plain": [
       "<haystack.core.pipeline.pipeline.Pipeline object at 0x000001F3D5D5DF70>\n",
       "🚅 Components\n",
       "  - embedder: SentenceTransformersTextEmbedder\n",
       "  - retriever: InMemoryEmbeddingRetriever\n",
       "  - reader: ExtractiveReader\n",
       "🛤️ Connections\n",
       "  - embedder.embedding -> retriever.query_embedding (List[float])\n",
       "  - retriever.documents -> reader.documents (List[Document])"
      ]
     },
     "execution_count": 3,
     "metadata": {},
     "output_type": "execute_result"
    }
   ],
   "source": [
    "from haystack.components.retrievers.in_memory import InMemoryEmbeddingRetriever\n",
    "from haystack.components.readers import ExtractiveReader\n",
    "from haystack.components.embedders import SentenceTransformersTextEmbedder\n",
    "\n",
    "retriever = InMemoryEmbeddingRetriever(document_store=document_store)\n",
    "reader = ExtractiveReader()\n",
    "reader.warm_up()\n",
    "\n",
    "extractive_qa_pipeline = Pipeline()\n",
    "\n",
    "extractive_qa_pipeline.add_component(instance=SentenceTransformersTextEmbedder(model=model), name=\"embedder\")\n",
    "extractive_qa_pipeline.add_component(instance=retriever, name=\"retriever\")\n",
    "extractive_qa_pipeline.add_component(instance=reader, name=\"reader\")\n",
    "\n",
    "extractive_qa_pipeline.connect(\"embedder.embedding\", \"retriever.query_embedding\")\n",
    "extractive_qa_pipeline.connect(\"retriever.documents\", \"reader.documents\")"
   ]
  },
  {
   "cell_type": "code",
   "execution_count": 5,
   "metadata": {},
   "outputs": [
    {
     "data": {
      "application/vnd.jupyter.widget-view+json": {
       "model_id": "35511a5d944e448cbe0930b2a467bf11",
       "version_major": 2,
       "version_minor": 0
      },
      "text/plain": [
       "Batches:   0%|          | 0/1 [00:00<?, ?it/s]"
      ]
     },
     "metadata": {},
     "output_type": "display_data"
    },
    {
     "data": {
      "text/plain": [
       "{'reader': {'answers': [ExtractedAnswer(query='What most likely happened in 1402 when the Knights of St John of Jerusalem arrived?', score=0.6509622931480408, data='earthquake', document=Document(id=72d9ba5c859a4737ea03759f89a6d4fb50cab7f04061de6c33e1835ef7f8eedf, content: 'Because of this, Fergusson concluded that the building was ruined, probably by an earthquake, betwee...', meta: {'url': 'https://en.wikipedia.org/wiki/Mausoleum_at_Halicarnassus', '_split_id': 6}, score: 19.51354383276873), context=None, document_offset=ExtractedAnswer.Span(start=82, end=92), context_offset=None, meta={}),\n",
       "   ExtractedAnswer(query='What most likely happened in 1402 when the Knights of St John of Jerusalem arrived?', score=0.29987215995788574, data='The Knights of St John of Rhodes invaded the region and built Bodrum Castle (Castle of Saint Peter). When they decided to fortify it in 1494, they used the stones of the Mausoleum. This is also about when \"imaginative reconstructions\" of the Mausoleum began to appear.[25] In 1522, rumours of a Turkish invasion', document=Document(id=cc9a5b32b85a94c5a59aa365659776af1d789343fe2b9cea261ead7255ca604c, content: 'It was untouched when the city fell to Alexander the Great in 334 BC and still undamaged after attac...', meta: {'url': 'https://en.wikipedia.org/wiki/Mausoleum_at_Halicarnassus', '_split_id': 12}, score: 18.12406310429862), context=None, document_offset=ExtractedAnswer.Span(start=356, end=667), context_offset=None, meta={}),\n",
       "   ExtractedAnswer(query='What most likely happened in 1402 when the Knights of St John of Jerusalem arrived?', score=0.24437101579151488, data=None, document=None, context=None, document_offset=None, context_offset=None, meta={})]}}"
      ]
     },
     "execution_count": 5,
     "metadata": {},
     "output_type": "execute_result"
    }
   ],
   "source": [
    "query = 'What most likely happened in 1402 when the Knights of St John of Jerusalem arrived?'\n",
    "extractive_qa_pipeline.run(\n",
    "  data={\n",
    "    'embedder': {\n",
    "      'text': query\n",
    "    },\n",
    "    'retriever': {\n",
    "        'top_k': 3\n",
    "    },\n",
    "    'reader': {\n",
    "        'query': query,\n",
    "        'top_k': 2\n",
    "    }\n",
    "  }\n",
    ")"
   ]
  }
 ],
 "metadata": {
  "kernelspec": {
   "display_name": "venv",
   "language": "python",
   "name": "python3"
  },
  "language_info": {
   "codemirror_mode": {
    "name": "ipython",
    "version": 3
   },
   "file_extension": ".py",
   "mimetype": "text/x-python",
   "name": "python",
   "nbconvert_exporter": "python",
   "pygments_lexer": "ipython3",
   "version": "3.12.2"
  }
 },
 "nbformat": 4,
 "nbformat_minor": 2
}
